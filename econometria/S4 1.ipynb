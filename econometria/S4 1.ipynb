{
 "cells": [
  {
   "cell_type": "markdown",
   "id": "982bf804",
   "metadata": {},
   "source": [
    "# Resolviendo no estacionariedad"
   ]
  },
  {
   "cell_type": "code",
   "execution_count": 2,
   "id": "6a71d56f",
   "metadata": {},
   "outputs": [],
   "source": [
    "import pandas as pd\n",
    "import matplotlib.pyplot as plt \n",
    "from statsmodels.tsa.stattools import adfuller\n",
    "from arch.unitroot import PhillipsPerron,KPSS,DFGLS,ADF\n",
    "from prettytable import PrettyTable\n",
    "\n",
    "bolsas = pd.read_csv(\"bolsas2.csv\")\n",
    "imacec = pd.read_csv(\"imacec.csv\")\n",
    "cobrepetroleo = pd.read_csv(\"cobre_petroleo.csv\")\n",
    "desempleo = pd.read_csv(\"desempleo.csv\")"
   ]
  },
  {
   "cell_type": "markdown",
   "id": "304a2243",
   "metadata": {},
   "source": [
    "### indice dow jones"
   ]
  },
  {
   "cell_type": "code",
   "execution_count": 3,
   "id": "7749de16",
   "metadata": {
    "scrolled": true
   },
   "outputs": [
    {
     "data": {
      "image/png": "[encoded data removed]",
      "text/plain": [
       "<Figure size 432x288 with 1 Axes>"
      ]
     },
     "metadata": {
      "needs_background": "light"
     },
     "output_type": "display_data"
    },
    {
     "name": "stdout",
     "output_type": "stream",
     "text": [
      "+--------------------------+----------+-----------------------------------+\n",
      "|    Unitary root test     | P-Value  |           Hipotesis Nula          |\n",
      "+--------------------------+----------+-----------------------------------+\n",
      "| Argumented Dickey Fuller | 0.400457 | The process contains a unit root. |\n",
      "|      PhillipsPerron      | 0.388369 | The process contains a unit root. |\n",
      "|           KPSS           | 0.071072 | The process is weakly stationary. |\n",
      "|    Dickey-Fuller GLS     | 0.088321 | The process contains a unit root. |\n",
      "+--------------------------+----------+-----------------------------------+\n"
     ]
    }
   ],
   "source": [
    "fig,ax = plt.subplots()\n",
    "plt.plot(bolsas['fecha'], bolsas['dowjones'])\n",
    "plt.xticks(range(0, 3000, 140))\n",
    "plt.xticks(rotation=60)\n",
    "plt.xlabel(\"fecha\")\n",
    "plt.ylabel(\"Valor\")\n",
    "plt.title(\"Indice DowJones\")\n",
    "plt.show()\n",
    "#print(bolsas[\"dowjones\"][0:136])\n",
    "adf = ADF(bolsas[\"dowjones\"][0:136])\n",
    "pp = PhillipsPerron(bolsas[\"dowjones\"][0:136])\n",
    "kpss = KPSS(bolsas[\"dowjones\"][0:136])\n",
    "df = DFGLS(bolsas[\"dowjones\"][0:136])\n",
    "x = PrettyTable()\n",
    "x.field_names = [\"Unitary root test\", \"P-Value\",\"Hipotesis Nula\"]\n",
    "x.add_row([\"Argumented Dickey Fuller\", round(adf.pvalue,6),adf.null_hypothesis])\n",
    "x.add_row([\"PhillipsPerron\", round(pp.pvalue,6),pp.null_hypothesis])\n",
    "x.add_row([\"KPSS\", round(kpss.pvalue,6),kpss.null_hypothesis])\n",
    "x.add_row([\"Dickey-Fuller GLS\",round(df.pvalue,6),df.null_hypothesis])\n",
    "print(x)"
   ]
  },
  {
   "cell_type": "markdown",
   "id": "fcd4773c",
   "metadata": {},
   "source": [
    "basado en los rsultados de las pruebas de raiz unitario observamos que la serie no es estacionaria "
   ]
  },
  {
   "cell_type": "code",
   "execution_count": 4,
   "id": "60e39fb5",
   "metadata": {},
   "outputs": [
    {
     "data": {
      "text/plain": [
       "0       10583.96\n",
       "1       10572.02\n",
       "2       10573.68\n",
       "3       10606.86\n",
       "4       10618.19\n",
       "          ...   \n",
       "3210    30316.98\n",
       "3211    30274.80\n",
       "3212    29926.47\n",
       "3213    29297.25\n",
       "3214    29202.94\n",
       "Name: dowjones, Length: 3215, dtype: float64"
      ]
     },
     "execution_count": 4,
     "metadata": {},
     "output_type": "execute_result"
    }
   ],
   "source": [
    "bolsas[\"dowjones\"]"
   ]
  },
  {
   "cell_type": "code",
   "execution_count": null,
   "id": "6178627b",
   "metadata": {},
   "outputs": [],
   "source": [
    "fig,ax = plt.subplots()\n",
    "plt.plot(bolsas['fecha'], bolsas['vix'])\n",
    "plt.xticks(range(0, 160, 10))\n",
    "plt.xticks(rotation=60)\n",
    "plt.xlabel(\"fecha\")\n",
    "plt.ylabel(\"Valor\")\n",
    "plt.title(\"Indice VIX\")\n",
    "plt.show()\n",
    "\n",
    "fig,ax = plt.subplots()\n",
    "plt.plot(bolsas['fecha'], bolsas['sp500'])\n",
    "plt.xticks(range(0, 160, 10))\n",
    "plt.xticks(rotation=60)\n",
    "plt.xlabel(\"fecha\")\n",
    "plt.ylabel(\"Valor\")\n",
    "plt.title(\"Indice SP500\")\n",
    "plt.show()\n",
    "\n",
    "fig,ax = plt.subplots()\n",
    "plt.plot(bolsas['fecha'], bolsas['nasdaq'])\n",
    "plt.xticks(range(0, 160, 10))\n",
    "plt.xticks(rotation=60)\n",
    "plt.xlabel(\"fecha\")\n",
    "plt.ylabel(\"Valor\")\n",
    "plt.title(\"Indice NASDAQ\")\n",
    "plt.show()\n",
    "\n",
    "\n",
    "\n",
    "fig,ax = plt.subplots()\n",
    "plt.plot(cobrepetroleo['fecha'], cobrepetroleo['petroleo wti'])\n",
    "plt.xticks(range(0, 160, 10))\n",
    "plt.xticks(rotation=60)\n",
    "plt.xlabel(\"fecha\")\n",
    "plt.ylabel(\"Valor\")\n",
    "plt.title(\"Precio petroleo wti\")\n",
    "plt.show()\n",
    "\n",
    "fig,ax = plt.subplots()\n",
    "plt.plot(cobrepetroleo['fecha'], cobrepetroleo['petroleo brent'])\n",
    "plt.xticks(range(0, 160, 10))\n",
    "plt.xticks(rotation=60)\n",
    "plt.xlabel(\"fecha\")\n",
    "plt.ylabel(\"Valor\")\n",
    "plt.title(\"Precio petroleo brent\")\n",
    "plt.show()\n",
    "\n",
    "fig,ax = plt.subplots()\n",
    "plt.plot(cobrepetroleo['fecha'], cobrepetroleo['cobre'])\n",
    "plt.xticks(range(0, 160, 10))\n",
    "plt.xticks(rotation=60)\n",
    "plt.xlabel(\"fecha\")\n",
    "plt.ylabel(\"Valor\")\n",
    "plt.title(\"Precio Cobre\")\n",
    "plt.show()\n",
    "\n",
    "fig,ax = plt.subplots()\n",
    "plt.plot(imacec['fecha'], imacec['imacec'])\n",
    "plt.xticks(range(0, 60, 5))\n",
    "plt.xticks(rotation=60)\n",
    "plt.xlabel(\"fecha\")\n",
    "plt.ylabel(\"Valor\")\n",
    "plt.title(\"Imacec\")\n",
    "plt.show()\n",
    "\n",
    "fig,ax = plt.subplots()\n",
    "plt.plot(desempleo['fecha'], desempleo['porcentaje'])\n",
    "plt.xticks(range(0, 60, 5))\n",
    "plt.xticks(rotation=60)\n",
    "plt.xlabel(\"fecha\")\n",
    "plt.ylabel(\"Porcentaje\")\n",
    "plt.title(\"Porcentaje desempleo\")\n",
    "plt.show()"
   ]
  }
 ],
 "metadata": {
  "kernelspec": {
   "display_name": "Python 3 (ipykernel)",
   "language": "python",
   "name": "python3"
  },
  "language_info": {
   "codemirror_mode": {
    "name": "ipython",
    "version": 3
   },
   "file_extension": ".py",
   "mimetype": "text/x-python",
   "name": "python",
   "nbconvert_exporter": "python",
   "pygments_lexer": "ipython3",
   "version": "3.9.12"
  }
 },
 "nbformat": 4,
 "nbformat_minor": 5
}
