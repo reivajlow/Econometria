{
 "cells": [
  {
   "cell_type": "markdown",
   "id": "5c1794a6",
   "metadata": {},
   "source": [
    "Actividad c1\n",
    "---\n",
    "Javier Saavedra\n",
    "---    "
   ]
  },
  {
   "cell_type": "markdown",
   "id": "c2b7af4a",
   "metadata": {},
   "source": [
    "1. Tema a estudiar.\n",
    "    - El tema de estudio sera como impacta el precio del cobre en el tipo de cambio entre pesos chilenos y el dolar\n",
    "2. Justificacion \n",
    "    - Bien sabemos que el precio del cobre tiene un gran impacto en la economia de chile. por otra parte sabemos que el precio del dolar es un indicador importante en la economia. dado estos 2 valores nace la idea de realizar el siguiente estudio, como afecta el precio del dolar al tipo de cambio en chile. el tipo de cambio es un indicador el cual afecta directa y explicitamente a la poblacion, ya que de esta manera se fijan muchos valores que impactan el bolsillo de la poblacion. es por esto que saber como el precio del cobre impacta en el tipo de cambio entre el dolar y peso chileno.\n",
    "    \n",
    "3. Bases de datos de interes\n",
    "    - [Precio del cobre](https://datos.gob.cl/dataset/precio-de-los-metales)\n",
    "    - [tipo de cambio](https://si3.bcentral.cl/siete/ES/Siete/Cuadro/CAP_TIPO_CAMBIO/MN_TIPO_CAMBIO4/TCB_531_IND_TCRYCOMP)\n",
    "4. Objetivos de la investigacion\n",
    "    * Objetivos generales\n",
    "        - Determinar el impacto del precio del cobre en el tipo de cambio\n",
    "    * Objetivos especificos\n",
    "        - Conocer si el impacto es positivo o negativo \n",
    "        - Analisar el porcentaje de influencia en el tipo de cambio"
   ]
  },
  {
   "cell_type": "code",
   "execution_count": null,
   "id": "bd4c31e3",
   "metadata": {},
   "outputs": [],
   "source": []
  }
 ],
 "metadata": {
  "kernelspec": {
   "display_name": "Python 3 (ipykernel)",
   "language": "python",
   "name": "python3"
  },
  "language_info": {
   "codemirror_mode": {
    "name": "ipython",
    "version": 3
   },
   "file_extension": ".py",
   "mimetype": "text/x-python",
   "name": "python",
   "nbconvert_exporter": "python",
   "pygments_lexer": "ipython3",
   "version": "3.9.12"
  }
 },
 "nbformat": 4,
 "nbformat_minor": 5
}
